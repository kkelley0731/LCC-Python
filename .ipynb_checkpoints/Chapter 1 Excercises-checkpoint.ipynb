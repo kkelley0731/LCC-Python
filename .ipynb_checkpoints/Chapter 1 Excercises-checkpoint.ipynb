{
 "cells": [
  {
   "cell_type": "markdown",
   "id": "f6a866c5-fb67-432f-acff-79a077cf1c59",
   "metadata": {},
   "source": [
    "# Chapter 1 Excercises\n",
    "Problems 1, 3, 4"
   ]
  },
  {
   "cell_type": "markdown",
   "id": "70f48efd-cac1-458d-880a-99f82591e8d9",
   "metadata": {},
   "source": [
    "## Excercise 1"
   ]
  },
  {
   "cell_type": "code",
   "execution_count": 3,
   "id": "21e9424e-9f95-4517-9034-5cfe12a2b147",
   "metadata": {},
   "outputs": [
    {
     "name": "stdout",
     "output_type": "stream",
     "text": [
      "This is a test of the Python interpreter.\n"
     ]
    }
   ],
   "source": [
    "print('This is a test of the Python interpreter.')"
   ]
  },
  {
   "cell_type": "code",
   "execution_count": null,
   "id": "527dfe13-4e23-4aba-afff-9d860b8e6b14",
   "metadata": {},
   "outputs": [],
   "source": []
  }
 ],
 "metadata": {
  "kernelspec": {
   "display_name": "Python 3 (ipykernel)",
   "language": "python",
   "name": "python3"
  },
  "language_info": {
   "codemirror_mode": {
    "name": "ipython",
    "version": 3
   },
   "file_extension": ".py",
   "mimetype": "text/x-python",
   "name": "python",
   "nbconvert_exporter": "python",
   "pygments_lexer": "ipython3",
   "version": "3.11.7"
  }
 },
 "nbformat": 4,
 "nbformat_minor": 5
}
