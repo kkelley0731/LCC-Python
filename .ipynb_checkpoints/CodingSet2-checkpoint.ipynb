{
 "cells": [
  {
   "cell_type": "markdown",
   "id": "d1324f65-7a23-4a64-9e85-f023685c67c2",
   "metadata": {},
   "source": [
    "# Coding Set 2\n",
    "# Kimberly Kelley\n",
    "\n",
    "## Algorithm Workbench\n",
    "## Exercise 4\n",
    "##     Assume the variables result, w, x, y, and z are all integers and that \n",
    "##     w=5, x=4, y=8, and z=2. What value will be stored in result after\n",
    "##     each of the following statements execute.\n",
    "\n",
    "### Initialize the variables\n",
    "\n",
    "w = 5\n",
    "x = 4\n",
    "y = 8\n",
    "z = 2\n",
    "\n",
    "### Calculations to be executed based on the question in the textbook\n",
    "\n",
    "result1 = x + y\n",
    "result2 = z * 2\n",
    "result3 = y / x\n",
    "result4 = y - z\n",
    "result5 = w // z\n",
    "\n",
    "### Print results of the above calculations\n",
    "\n",
    "print (result1)\n",
    "print (result2)\n",
    "print (result3)\n",
    "print (result4)\n",
    "print (result5)"
   ]
  },
  {
   "cell_type": "code",
   "execution_count": 4,
   "id": "806a8dd1-82a9-4bc6-9880-49baf4b1443f",
   "metadata": {
    "jp-MarkdownHeadingCollapsed": true
   },
   "outputs": [
    {
     "name": "stdin",
     "output_type": "stream",
     "text": [
      "Enter total square feet in a tract of land:  435600\n"
     ]
    },
    {
     "ename": "TypeError",
     "evalue": "unsupported operand type(s) for /: 'str' and 'int'",
     "output_type": "error",
     "traceback": [
      "\u001b[1;31m---------------------------------------------------------------------------\u001b[0m",
      "\u001b[1;31mTypeError\u001b[0m                                 Traceback (most recent call last)",
      "Cell \u001b[1;32mIn[4], line 11\u001b[0m\n\u001b[0;32m      8\u001b[0m sqft \u001b[38;5;241m=\u001b[39m \u001b[38;5;28minput\u001b[39m(\u001b[38;5;124m'\u001b[39m\u001b[38;5;124mEnter total square feet in a tract of land: \u001b[39m\u001b[38;5;124m'\u001b[39m)\n\u001b[0;32m     10\u001b[0m \u001b[38;5;66;03m### Calculate acres\u001b[39;00m\n\u001b[1;32m---> 11\u001b[0m acres \u001b[38;5;241m=\u001b[39m sqft \u001b[38;5;241m/\u001b[39m \u001b[38;5;241m43560\u001b[39m\n\u001b[0;32m     13\u001b[0m \u001b[38;5;66;03m### Display the number of acres for the tract of land\u001b[39;00m\n\u001b[0;32m     14\u001b[0m \u001b[38;5;28mprint\u001b[39m(\u001b[38;5;124mf\u001b[39m\u001b[38;5;124m'\u001b[39m\u001b[38;5;132;01m{\u001b[39;00msqft\u001b[38;5;132;01m}\u001b[39;00m\u001b[38;5;124m square feet equals \u001b[39m\u001b[38;5;132;01m{\u001b[39;00macres\u001b[38;5;132;01m}\u001b[39;00m\u001b[38;5;124m.\u001b[39m\u001b[38;5;124m'\u001b[39m)\n",
      "\u001b[1;31mTypeError\u001b[0m: unsupported operand type(s) for /: 'str' and 'int'"
     ]
    }
   ],
   "source": [
    "## Programming Exercises\n",
    "## Exercise 3 Land Calculation\n",
    "##     One acre of land is = 43560 sq ft.  Write a program that asks the \n",
    "##     user to enter the total sq ft in a tract of land and calculates the \n",
    "##     number of acres in the tract.\n",
    "\n",
    "### Prompt user for total square feet of a tract of land\n",
    "sqft = input('Enter total square feet in a tract of land: ')\n",
    "\n",
    "### Calculate acres\n",
    "acres = sqft / 43560\n",
    "\n",
    "### Display the number of acres for the tract of land\n",
    "print(f'{sqft} square feet equals {acres}.')"
   ]
  },
  {
   "cell_type": "code",
   "execution_count": null,
   "id": "c73c7685-551e-4756-8c36-0bd81ea28a52",
   "metadata": {},
   "outputs": [],
   "source": []
  }
 ],
 "metadata": {
  "kernelspec": {
   "display_name": "Python 3 (ipykernel)",
   "language": "python",
   "name": "python3"
  },
  "language_info": {
   "codemirror_mode": {
    "name": "ipython",
    "version": 3
   },
   "file_extension": ".py",
   "mimetype": "text/x-python",
   "name": "python",
   "nbconvert_exporter": "python",
   "pygments_lexer": "ipython3",
   "version": "3.11.7"
  }
 },
 "nbformat": 4,
 "nbformat_minor": 5
}
