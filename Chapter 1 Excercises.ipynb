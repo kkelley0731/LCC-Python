{
 "cells": [
  {
   "cell_type": "markdown",
   "id": "8bcae24d-a8dd-4da7-a07f-70eb9768a056",
   "metadata": {},
   "source": [
    "# Chapter 1\n",
    "## Exercises 1, 2, 3 & 4"
   ]
  },
  {
   "cell_type": "markdown",
   "id": "70f48efd-cac1-458d-880a-99f82591e8d9",
   "metadata": {},
   "source": [
    "## Exercise 1\n",
    "### Interacting with Python interpreter\n",
    "### I will attach print screen in discussion entry"
   ]
  },
  {
   "cell_type": "code",
   "execution_count": 7,
   "id": "c2ec3f7b-1cf8-4d8d-8cd2-bd7b353e54a8",
   "metadata": {},
   "outputs": [
    {
     "name": "stdout",
     "output_type": "stream",
     "text": [
      "This is a test of the Python interpreter.\n"
     ]
    }
   ],
   "source": [
    "# This statement was used in the Python interpreter to display: This is a test of the Python interpreter.\n",
    "print('This is a test of the Python interpreter.')"
   ]
  },
  {
   "cell_type": "code",
   "execution_count": null,
   "id": "d3e95f3d-4f8c-47ff-b0fc-f87b149aa5b8",
   "metadata": {},
   "outputs": [],
   "source": [
    "## Exercise 2\n",
    "### Interact with IDLE\n",
    "### I will attach print screen in discussion entry"
   ]
  },
  {
   "cell_type": "code",
   "execution_count": 9,
   "id": "4b407a68-f5d7-4591-bca9-4b0744ac1918",
   "metadata": {},
   "outputs": [
    {
     "name": "stdout",
     "output_type": "stream",
     "text": [
      "This is a test of IDLE.\n"
     ]
    }
   ],
   "source": [
    "# This statement was used in the IDLE desktop app to display: This is a test of IDLE.\n",
    "print('This is a test of IDLE.')"
   ]
  },
  {
   "cell_type": "markdown",
   "id": "06f2aaac-6ba0-4cd9-a51c-22e1ef740793",
   "metadata": {},
   "source": [
    "## Exercise 3\n",
    "### Convert decimal numbers to binary\n",
    "## 11 = binary 00001011\n",
    "## 65 = binary 01000000   \n",
    "## 100 = binary 01100100\n",
    "## 255 = binary 11111111\n",
    "##\n",
    "## By using Figure 1-9 on page 9 of our text I was able to convert the decimal number to a binary value"
   ]
  },
  {
   "cell_type": "markdown",
   "id": "842eb9b9-ce21-4481-a1d5-bd8fb959669c",
   "metadata": {},
   "source": [
    "## Exercise 4\n",
    "### Convert binary to decimal\n",
    "## 1101 = decimal 13\n",
    "## 1000 = decimal 8\n",
    "## 101011 = decimal 43\n",
    "##\n",
    "## By using Figure 1-9 on page 9 of our text I was able to convert the binary value to a decimal number"
   ]
  }
 ],
 "metadata": {
  "kernelspec": {
   "display_name": "Python 3 (ipykernel)",
   "language": "python",
   "name": "python3"
  },
  "language_info": {
   "codemirror_mode": {
    "name": "ipython",
    "version": 3
   },
   "file_extension": ".py",
   "mimetype": "text/x-python",
   "name": "python",
   "nbconvert_exporter": "python",
   "pygments_lexer": "ipython3",
   "version": "3.11.7"
  }
 },
 "nbformat": 4,
 "nbformat_minor": 5
}
