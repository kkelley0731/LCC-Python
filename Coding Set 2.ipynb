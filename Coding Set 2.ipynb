{
 "cells": [
  {
   "cell_type": "code",
   "execution_count": 1,
   "id": "574a7c39-0aa5-4ac7-bc7d-fd647b42ffb5",
   "metadata": {},
   "outputs": [
    {
     "ename": "ZeroDivisionError",
     "evalue": "division by zero",
     "output_type": "error",
     "traceback": [
      "\u001b[1;31m---------------------------------------------------------------------------\u001b[0m",
      "\u001b[1;31mZeroDivisionError\u001b[0m                         Traceback (most recent call last)",
      "Cell \u001b[1;32mIn[1], line 18\u001b[0m\n\u001b[0;32m     16\u001b[0m result1 \u001b[38;5;241m=\u001b[39m x \u001b[38;5;241m+\u001b[39m y\n\u001b[0;32m     17\u001b[0m result2 \u001b[38;5;241m=\u001b[39m z \u001b[38;5;241m*\u001b[39m \u001b[38;5;241m2\u001b[39m\n\u001b[1;32m---> 18\u001b[0m result3 \u001b[38;5;241m=\u001b[39m y \u001b[38;5;241m/\u001b[39m x\n\u001b[0;32m     19\u001b[0m result4 \u001b[38;5;241m=\u001b[39m y \u001b[38;5;241m-\u001b[39m z\n\u001b[0;32m     20\u001b[0m result5 \u001b[38;5;241m=\u001b[39m w \u001b[38;5;241m/\u001b[39m\u001b[38;5;241m/\u001b[39m z\n",
      "\u001b[1;31mZeroDivisionError\u001b[0m: division by zero"
     ]
    }
   ],
   "source": [
    "## Algorithm Workbench\n",
    "## Exercise 4\n",
    "##     Assume the variables result, w, x, y, and z are all integers and that \n",
    "##     w=5, x=4, y=8, and z=2. What value will be stored in result after\n",
    "##     each of the following statements execute.\n",
    "\n",
    "### Initialize the variables\n",
    "\n",
    "w = 0\n",
    "x = 0\n",
    "y = 0\n",
    "z = 0\n",
    "\n",
    "### Calculations to be executed based on the question in the textbook\n",
    "\n",
    "result1 = x + y\n",
    "result2 = z * 2\n",
    "result3 = y / x\n",
    "result4 = y - z\n",
    "result5 = w // z\n",
    "\n",
    "### Print results of the above calculations\n",
    "\n",
    "print (result1)\n",
    "print (result2)\n",
    "print (result3)\n",
    "print (result4)\n",
    "print (result5)"
   ]
  },
  {
   "cell_type": "code",
   "execution_count": null,
   "id": "0198b645-7a73-47e9-a9fd-45a1b5eb758f",
   "metadata": {},
   "outputs": [],
   "source": []
  }
 ],
 "metadata": {
  "kernelspec": {
   "display_name": "Python 3 (ipykernel)",
   "language": "python",
   "name": "python3"
  },
  "language_info": {
   "codemirror_mode": {
    "name": "ipython",
    "version": 3
   },
   "file_extension": ".py",
   "mimetype": "text/x-python",
   "name": "python",
   "nbconvert_exporter": "python",
   "pygments_lexer": "ipython3",
   "version": "3.11.7"
  }
 },
 "nbformat": 4,
 "nbformat_minor": 5
}
