{
 "cells": [
  {
   "cell_type": "markdown",
   "id": "1bd81726-445e-49e8-a190-8e9aa014fe7b",
   "metadata": {},
   "source": [
    "# Coding Set 5\n",
    "## Kimberly Kelley\n",
    "## Chapter 5: Algorithm Workbench #1 & #10"
   ]
  },
  {
   "cell_type": "code",
   "execution_count": 12,
   "id": "03764a9d-8a22-4941-8f1e-babb302c98ae",
   "metadata": {},
   "outputs": [
    {
     "name": "stdout",
     "output_type": "stream",
     "text": [
      "The product of 3 times 10 = 30 \n"
     ]
    }
   ],
   "source": [
    "### 1. Write a function named times_ten.  The function should accept an argument and display the product of it.\n",
    "\n",
    "### High Level Overview: I created the function time_ten and then added the call to the function with the argument set to 3\n",
    "### Def is the start of the function, it contains the calc for result and the print to display our results\n",
    "### The last line of code is what will run our function and pass the value of 3 in the argument\n",
    "\n",
    "## This is the code that will use a function to get the result of arg * 10 and display the product\n",
    "def times_ten(arg):\n",
    "    result = arg * 10\n",
    "    print(f'The product of {arg} times 10 = {result} ')\n",
    "\n",
    "## This is the code to call the function times_ten and  set the value of the argument to 3\n",
    "times_ten(3)\n",
    "\n",
    "## Note:  First commit I missed the closing ) on my print statement\n",
    "## Second commit I was confused as to what I entered as Markdown and what was Code so I retyped it all\n",
    "## Third commit the code ran\n"
   ]
  },
  {
   "cell_type": "markdown",
   "id": "b24afad0-a38a-46e2-ba57-0dcbcb98e5f9",
   "metadata": {},
   "source": [
    "### 10. Write a function named get_first_name that asks the user to enter his or her first name, and returns it.\n",
    "\n",
    "### High Level Overview:  This program will\n",
    "\n",
    "## This is the code that will define the function get_first_name\n",
    "def get_first_name():\n",
    "\n",
    "## Prompt user to enter their first name\n",
    "     first = input('Please enter your first name: ')\n",
    "\n",
    "## Return first to be used in our print statement\n",
    "     return first\n",
    "\n",
    "Define first and call the function get_fir\n",
    "first = get_first_name()\n",
    "print(f'First name: {first}')\n"
   ]
  },
  {
   "cell_type": "code",
   "execution_count": null,
   "id": "edb1d09d-bf48-4290-83ca-10e903da3d70",
   "metadata": {},
   "outputs": [],
   "source": []
  }
 ],
 "metadata": {
  "kernelspec": {
   "display_name": "Python 3 (ipykernel)",
   "language": "python",
   "name": "python3"
  },
  "language_info": {
   "codemirror_mode": {
    "name": "ipython",
    "version": 3
   },
   "file_extension": ".py",
   "mimetype": "text/x-python",
   "name": "python",
   "nbconvert_exporter": "python",
   "pygments_lexer": "ipython3",
   "version": "3.11.7"
  }
 },
 "nbformat": 4,
 "nbformat_minor": 5
}
