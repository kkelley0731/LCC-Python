{
 "cells": [
  {
   "cell_type": "markdown",
   "id": "1bd81726-445e-49e8-a190-8e9aa014fe7b",
   "metadata": {},
   "source": [
    "# Coding Set 5\n",
    "## Kimberly Kelley\n",
    "## Chapter 5: Algorithm Workbench #1 & #10"
   ]
  },
  {
   "cell_type": "code",
   "execution_count": 12,
   "id": "03764a9d-8a22-4941-8f1e-babb302c98ae",
   "metadata": {},
   "outputs": [
    {
     "name": "stdout",
     "output_type": "stream",
     "text": [
      "The product of 3 times 10 = 30 \n"
     ]
    }
   ],
   "source": [
    "### 1. Write a function named times_ten.  The function should accept an argument and display the product of it.\n",
    "\n",
    "### High Level Overview: I created the function time_ten and then added the call to the function with the argument set to 3\n",
    "### Def is the start of the function, it contains the calc for result and the print to display our results\n",
    "### The last line of code is what will run our function and pass the value of 3 in the argument\n",
    "\n",
    "## This is the code that will use a function to get the result of arg * 10 and display the product\n",
    "def times_ten(arg):\n",
    "    result = arg * 10\n",
    "    print(f'The product of {arg} times 10 = {result} ')\n",
    "\n",
    "## This is the code to call the function times_ten and  set the value of the argument to 3\n",
    "times_ten(3)\n",
    "\n",
    "## Note:  First commit I missed the closing ) on my print statement\n",
    "## Second commit I was confused as to what I entered as Markdown and what was Code so I retyped it all\n",
    "## Third commit the code ran\n"
   ]
  },
  {
   "cell_type": "code",
   "execution_count": 23,
   "id": "a0c355f1-6679-4baf-be1e-c384445bd717",
   "metadata": {},
   "outputs": [
    {
     "name": "stdin",
     "output_type": "stream",
     "text": [
      "Please enter your first name:  Kim\n"
     ]
    },
    {
     "name": "stdout",
     "output_type": "stream",
     "text": [
      "First name: Kim\n"
     ]
    }
   ],
   "source": [
    "### 10. Write a function named get_first_name that asks the user to enter his or her first name, and returns it.\n",
    "\n",
    "### High Level Overview:  This program will\n",
    "\n",
    "## This is the code that will define the function get_first_name\n",
    "def get_first_name():\n",
    "\n",
    "## Prompt user to enter their first name\n",
    "     first = input('Please enter your first name: ')\n",
    "\n",
    "## Return first to be used in our print statement\n",
    "     return first\n",
    "\n",
    "## Define first and call the function get_first_name\n",
    "first = get_first_name()\n",
    "\n",
    "## Print the first name entered by the user\n",
    "print(f'First name: {first}')\n"
   ]
  },
  {
   "cell_type": "markdown",
   "id": "eb77183f-8550-42b3-b807-eebe8243d08e",
   "metadata": {},
   "source": [
    "## Programming Exercises #1 #17 #18 "
   ]
  },
  {
   "cell_type": "code",
   "execution_count": 32,
   "id": "70d5e1da-6be7-4746-991e-c9f56c598b49",
   "metadata": {},
   "outputs": [
    {
     "name": "stdin",
     "output_type": "stream",
     "text": [
      "Enter distance in kilometers:  75\n"
     ]
    },
    {
     "name": "stdout",
     "output_type": "stream",
     "text": [
      "75 kilometers = 46.605 miles\n"
     ]
    }
   ],
   "source": [
    "### 1. Kilometer Converter\n",
    "### Write a program that asks the user to enter a distance in kilometers, then converts that distance to miles.\n",
    "### The conversion is as follows:  Miles = Kilometers X 0.6214\n",
    "\n",
    "### High Level Overview:  This program will prompt the user to input kilometers, convert km to miles and display the result\n",
    "### This program has a function to convert miles to kilometers and a function to prompt the user and display the results\n",
    "### Note: 1st run I forget to call my function kilometers\n",
    "\n",
    "## Function to convert kilometers to miles and retrun the miles to be displayed\n",
    "def convert_to_miles(km):\n",
    "    miles = km * 0.6214\n",
    "    return miles\n",
    "\n",
    "## Function to Prompt user for kilometers, call function to convert km to miles and display the result\n",
    "def kilometers():\n",
    "    km = int(input('Enter distance in kilometers: '))\n",
    "    miles = convert_to_miles(km)\n",
    "    print(f'{km} kilometers = {miles} miles')\n",
    "\n",
    "## call function kilometers\n",
    "kilometers()\n"
   ]
  },
  {
   "cell_type": "code",
   "execution_count": 43,
   "id": "997eb3a6-701c-4b03-8c28-bbf780601455",
   "metadata": {},
   "outputs": [
    {
     "name": "stdin",
     "output_type": "stream",
     "text": [
      "Enter the replacement cost of the homes or buildings:  100000\n"
     ]
    },
    {
     "name": "stdout",
     "output_type": "stream",
     "text": [
      "Minimum insurance you should purchase is 80000.0\n"
     ]
    }
   ],
   "source": [
    "### 3. How much Insurance\n",
    "### Financial experts advise that property owners should insure their homes/buildings for 80% of cost to replace.\n",
    "### Write a program that asks the user to enter the replacement cost of a building, then display the minimum\n",
    "### amount of insurance he or she should buy for the property. \n",
    "\n",
    "### High Level Overview:  This program will\n",
    "\n",
    "\n",
    "## Function to calculate minimum insurance\n",
    "def calc_min_insurance(replacement):\n",
    "    minimum = replacement * 0.8\n",
    "    return minimum\n",
    "\n",
    "## Prompt user for cost and call function to calculate minimum insurance\n",
    "def get_cost():\n",
    "    replacement = int(input('Enter the replacement cost of the homes or buildings: '))\n",
    "    minimum = calc_min_insurance(replacement)\n",
    "##Print message to user\n",
    "    print(f'Minimum insurance you should purchase is {minimum}')\n",
    "\n",
    "## Call main function\n",
    "get_cost()\n"
   ]
  },
  {
   "cell_type": "code",
   "execution_count": null,
   "id": "b7a11f17-262a-4a34-b7ac-fb4747f783af",
   "metadata": {},
   "outputs": [],
   "source": [
    "### 17. Prime Number\n",
    "### Write a Boolean funtion name is_prime which takes an iteger as an argument and returns true if the argument is a \n",
    "### prime number, otherwise return false.  Use a function to prompt the user to enter a number then display a message\n",
    "### indicating if the number is prime\n",
    "\n",
    "### High Level Overview:  This program will\n",
    "\n",
    "def is_prime(numb):\n",
    "    for i in range(2, num):\n",
    "        if num % i == 0:\n",
    "            return False\n",
    "        return True\n",
    "        if num == 1:\n",
    "            return False\n",
    "\n",
    "def main():\n",
    "    num = int(input('Enter a number: '))\n",
    "    if is_primt(numb):\n",
    "        print(f'{numb} is prime')\n",
    "    else:\n",
    "        print(f'({numb} is not prime')\n",
    "\n",
    "main()\n"
   ]
  }
 ],
 "metadata": {
  "kernelspec": {
   "display_name": "Python 3 (ipykernel)",
   "language": "python",
   "name": "python3"
  },
  "language_info": {
   "codemirror_mode": {
    "name": "ipython",
    "version": 3
   },
   "file_extension": ".py",
   "mimetype": "text/x-python",
   "name": "python",
   "nbconvert_exporter": "python",
   "pygments_lexer": "ipython3",
   "version": "3.11.7"
  }
 },
 "nbformat": 4,
 "nbformat_minor": 5
}
