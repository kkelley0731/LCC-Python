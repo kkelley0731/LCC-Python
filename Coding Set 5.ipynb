{
 "cells": [
  {
   "cell_type": "markdown",
   "id": "1bd81726-445e-49e8-a190-8e9aa014fe7b",
   "metadata": {},
   "source": [
    "# Coding Set 5\n",
    "## Kimberly Kelley\n",
    "## Chapter 5: ALgorithm Workbench #1 & #10"
   ]
  },
  {
   "cell_type": "code",
   "execution_count": null,
   "id": "37020425-76e1-43c8-ae37-43c01e94f156",
   "metadata": {},
   "outputs": [],
   "source": [
    "### 1. Write a function named times_ten. The function should accept an argument and display the product of its argument multiplied times 10.\n",
    "\n",
    "### High Level Overview:\n",
    "\n",
    "## This is the code that will use a function to display the results of product * 10\n",
    "def times_10(arg):\n",
    "     result = arg * 10\n",
    "     print(f'The product of {arg} times 10 = {reslut}\n",
    "\n",
    "## This is the code to call our function and set the value of argument to 3\n",
    "times_10(3)\n"
   ]
  }
 ],
 "metadata": {
  "kernelspec": {
   "display_name": "Python 3 (ipykernel)",
   "language": "python",
   "name": "python3"
  },
  "language_info": {
   "codemirror_mode": {
    "name": "ipython",
    "version": 3
   },
   "file_extension": ".py",
   "mimetype": "text/x-python",
   "name": "python",
   "nbconvert_exporter": "python",
   "pygments_lexer": "ipython3",
   "version": "3.11.7"
  }
 },
 "nbformat": 4,
 "nbformat_minor": 5
}
