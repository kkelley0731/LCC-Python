{
 "cells": [
  {
   "cell_type": "markdown",
   "id": "1bd81726-445e-49e8-a190-8e9aa014fe7b",
   "metadata": {},
   "source": [
    "# Coding Set 5\n",
    "## Kimberly Kelley\n",
    "## Chapter 5: Algorithm Workbench #1 & #10"
   ]
  },
  {
   "cell_type": "code",
   "execution_count": 12,
   "id": "03764a9d-8a22-4941-8f1e-babb302c98ae",
   "metadata": {},
   "outputs": [
    {
     "name": "stdout",
     "output_type": "stream",
     "text": [
      "The product of 3 times 10 = 30 \n"
     ]
    }
   ],
   "source": [
    "### 1. Write a function named times_ten.  The function should accept an argument and display the product of it.\n",
    "\n",
    "### High Level Overview: I created the function time_ten and then added the call to the function with the argument set to 3\n",
    "### Def is the start of the function, it contains the calc for result and the print to display our results\n",
    "### The last line of code is what will run our function and pass the value of 3 in the argument\n",
    "\n",
    "## This is the code that will use a function to get the result of arg * 10 and display the product\n",
    "def times_ten(arg):\n",
    "    result = arg * 10\n",
    "    print(f'The product of {arg} times 10 = {result} ')\n",
    "\n",
    "## This is the code to call the function times_ten and  set the value of the argument to 3\n",
    "times_ten(3)\n",
    "\n",
    "## Note:  First commit I missed the closing ) on my print statement\n",
    "## Second commit I was confused as to what I entered as Markdown and what was Code so I retyped it all\n",
    "## Third commit the code ran\n"
   ]
  },
  {
   "cell_type": "code",
   "execution_count": 23,
   "id": "a0c355f1-6679-4baf-be1e-c384445bd717",
   "metadata": {},
   "outputs": [
    {
     "name": "stdin",
     "output_type": "stream",
     "text": [
      "Please enter your first name:  Kim\n"
     ]
    },
    {
     "name": "stdout",
     "output_type": "stream",
     "text": [
      "First name: Kim\n"
     ]
    }
   ],
   "source": [
    "### 10. Write a function named get_first_name that asks the user to enter his or her first name, and returns it.\n",
    "\n",
    "### High Level Overview:  This program will\n",
    "\n",
    "## This is the code that will define the function get_first_name\n",
    "def get_first_name():\n",
    "\n",
    "## Prompt user to enter their first name\n",
    "     first = input('Please enter your first name: ')\n",
    "\n",
    "## Return first to be used in our print statement\n",
    "     return first\n",
    "\n",
    "## Define first and call the function get_first_name\n",
    "first = get_first_name()\n",
    "\n",
    "## Print the first name entered by the user\n",
    "print(f'First name: {first}')\n"
   ]
  },
  {
   "cell_type": "markdown",
   "id": "eb77183f-8550-42b3-b807-eebe8243d08e",
   "metadata": {},
   "source": [
    "## Programming Exercises #1 #17 #18 "
   ]
  },
  {
   "cell_type": "code",
   "execution_count": 27,
   "id": "ff5b6990-7e85-4818-9f55-82c4dc62974f",
   "metadata": {},
   "outputs": [
    {
     "name": "stdin",
     "output_type": "stream",
     "text": [
      "Enter distance in kilometers:  75\n"
     ]
    },
    {
     "ename": "NameError",
     "evalue": "name 'convrt_to_miles' is not defined",
     "output_type": "error",
     "traceback": [
      "\u001b[1;31m---------------------------------------------------------------------------\u001b[0m",
      "\u001b[1;31mNameError\u001b[0m                                 Traceback (most recent call last)",
      "Cell \u001b[1;32mIn[27], line 19\u001b[0m\n\u001b[0;32m     16\u001b[0m     miles \u001b[38;5;241m=\u001b[39m convrt_to_miles(km)\n\u001b[0;32m     17\u001b[0m     \u001b[38;5;28mprint\u001b[39m(\u001b[38;5;124mf\u001b[39m\u001b[38;5;124m'\u001b[39m\u001b[38;5;132;01m{\u001b[39;00mkm\u001b[38;5;132;01m}\u001b[39;00m\u001b[38;5;124m kilometers = \u001b[39m\u001b[38;5;132;01m{\u001b[39;00mmiles\u001b[38;5;132;01m}\u001b[39;00m\u001b[38;5;124m miles\u001b[39m\u001b[38;5;124m'\u001b[39m)\n\u001b[1;32m---> 19\u001b[0m kilometers()\n",
      "Cell \u001b[1;32mIn[27], line 16\u001b[0m, in \u001b[0;36mkilometers\u001b[1;34m()\u001b[0m\n\u001b[0;32m     14\u001b[0m \u001b[38;5;28;01mdef\u001b[39;00m \u001b[38;5;21mkilometers\u001b[39m():\n\u001b[0;32m     15\u001b[0m     km \u001b[38;5;241m=\u001b[39m \u001b[38;5;28mint\u001b[39m(\u001b[38;5;28minput\u001b[39m(\u001b[38;5;124m'\u001b[39m\u001b[38;5;124mEnter distance in kilometers: \u001b[39m\u001b[38;5;124m'\u001b[39m))\n\u001b[1;32m---> 16\u001b[0m     miles \u001b[38;5;241m=\u001b[39m convrt_to_miles(km)\n\u001b[0;32m     17\u001b[0m     \u001b[38;5;28mprint\u001b[39m(\u001b[38;5;124mf\u001b[39m\u001b[38;5;124m'\u001b[39m\u001b[38;5;132;01m{\u001b[39;00mkm\u001b[38;5;132;01m}\u001b[39;00m\u001b[38;5;124m kilometers = \u001b[39m\u001b[38;5;132;01m{\u001b[39;00mmiles\u001b[38;5;132;01m}\u001b[39;00m\u001b[38;5;124m miles\u001b[39m\u001b[38;5;124m'\u001b[39m)\n",
      "\u001b[1;31mNameError\u001b[0m: name 'convrt_to_miles' is not defined"
     ]
    }
   ],
   "source": [
    "### 1. Kilometer Converter\n",
    "### Write a program that asks the user to enter a distance in kilometers, then converts that distance to miles.\n",
    "### The conversion is as follows:  Miles = Kilometers X 0.6214\n",
    "\n",
    "### High Level Overview:  This program will\n",
    "### Note: 1st run I forget to call my function kilometers\n",
    "\n",
    "## Function to convert kilometers to miles\n",
    "def convert_to_miles(km):\n",
    "    miles = km * 0.6214\n",
    "    return miles\n",
    "\n",
    "## Function to Prompt user for kilometers\n",
    "def kilometers():\n",
    "    km = int(input('Enter distance in kilometers: '))\n",
    "    miles = convert_to_miles(km)\n",
    "    print(f'{km} kilometers = {miles} miles')\n",
    "\n",
    "kilometers()\n"
   ]
  },
  {
   "cell_type": "code",
   "execution_count": null,
   "id": "6eaeef2d-ff13-4871-80c6-396289052d4c",
   "metadata": {},
   "outputs": [],
   "source": []
  }
 ],
 "metadata": {
  "kernelspec": {
   "display_name": "Python 3 (ipykernel)",
   "language": "python",
   "name": "python3"
  },
  "language_info": {
   "codemirror_mode": {
    "name": "ipython",
    "version": 3
   },
   "file_extension": ".py",
   "mimetype": "text/x-python",
   "name": "python",
   "nbconvert_exporter": "python",
   "pygments_lexer": "ipython3",
   "version": "3.11.7"
  }
 },
 "nbformat": 4,
 "nbformat_minor": 5
}
