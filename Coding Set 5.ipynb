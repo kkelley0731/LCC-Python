{
 "cells": [
  {
   "cell_type": "markdown",
   "id": "1bd81726-445e-49e8-a190-8e9aa014fe7b",
   "metadata": {},
   "source": [
    "# Coding Set 5\n",
    "## Kimberly Kelley\n",
    "## Chapter 5: ALgorithm Workbench #1 & #10"
   ]
  },
  {
   "cell_type": "code",
   "execution_count": 2,
   "id": "61308041-5745-4b31-869b-10ca27cf3371",
   "metadata": {},
   "outputs": [
    {
     "ename": "SyntaxError",
     "evalue": "unterminated string literal (detected at line 8) (289109473.py, line 8)",
     "output_type": "error",
     "traceback": [
      "\u001b[1;36m  Cell \u001b[1;32mIn[2], line 8\u001b[1;36m\u001b[0m\n\u001b[1;33m    print(f'The product of {arg} times 10 = {reslut}\u001b[0m\n\u001b[1;37m          ^\u001b[0m\n\u001b[1;31mSyntaxError\u001b[0m\u001b[1;31m:\u001b[0m unterminated string literal (detected at line 8)\n"
     ]
    }
   ],
   "source": [
    "### 1. Write a function named times_ten. The function should accept an argument and display the product of its argument multiplied times 10.\n",
    "\n",
    "### High Level Overview:\n",
    "\n",
    "## This is the code that will use a function to display the results of product * 10\n",
    "def times_10(arg):\n",
    "     result = arg * 10\n",
    "     print(f'The product of {arg} times 10 = {reslut})\n",
    "\n",
    "## This is the code to call our function and set the value of argument to 3\n",
    "times_10(3)\n",
    "\n",
    "###NOTE:  I missed the close pare"
   ]
  },
  {
   "cell_type": "code",
   "execution_count": null,
   "id": "82231962-f335-4ff4-8d65-492e5e6f5603",
   "metadata": {},
   "outputs": [],
   "source": []
  }
 ],
 "metadata": {
  "kernelspec": {
   "display_name": "Python 3 (ipykernel)",
   "language": "python",
   "name": "python3"
  },
  "language_info": {
   "codemirror_mode": {
    "name": "ipython",
    "version": 3
   },
   "file_extension": ".py",
   "mimetype": "text/x-python",
   "name": "python",
   "nbconvert_exporter": "python",
   "pygments_lexer": "ipython3",
   "version": "3.11.7"
  }
 },
 "nbformat": 4,
 "nbformat_minor": 5
}
