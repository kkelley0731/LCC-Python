{
 "cells": [
  {
   "cell_type": "markdown",
   "id": "1bd81726-445e-49e8-a190-8e9aa014fe7b",
   "metadata": {},
   "source": [
    "# Coding Set 5\n",
    "## Kimberly Kelley\n",
    "## Chapter 5: Algorithm Workbench #1 & #10"
   ]
  },
  {
   "cell_type": "code",
   "execution_count": null,
   "id": "cafeb30c-4b70-4dd6-8817-45a50ba5e7a5",
   "metadata": {},
   "outputs": [],
   "source": [
    "### 1. Write a function named times_ten.  The function should accept an argument and display the product of it.\n",
    "\n",
    "### High Level Overview:\n",
    "\n",
    "## This is the code that will use a function to get the result of arg * 10 and display the product\n",
    "def times_ten(arg):\n",
    "    result = arg * 10\n",
    "    print(f'The product of {arg} times 10 = {result} ')\n",
    "\n",
    "## This is the code to call the function times_ten and  set the value of the argument to 3\n",
    "times_ten(3)\n",
    "\n",
    "## Note:  First commit I missed the closing ) on my print statement\n",
    "## Second commit I was confused as to what I entered as Markdown and what was Code so I retyped it all\n",
    "## Third commit the code ran\n"
   ]
  },
  {
   "cell_type": "code",
   "execution_count": null,
   "id": "60416b35-9d05-43d6-85d1-ef5e51b04577",
   "metadata": {},
   "outputs": [],
   "source": []
  }
 ],
 "metadata": {
  "kernelspec": {
   "display_name": "Python 3 (ipykernel)",
   "language": "python",
   "name": "python3"
  },
  "language_info": {
   "codemirror_mode": {
    "name": "ipython",
    "version": 3
   },
   "file_extension": ".py",
   "mimetype": "text/x-python",
   "name": "python",
   "nbconvert_exporter": "python",
   "pygments_lexer": "ipython3",
   "version": "3.11.7"
  }
 },
 "nbformat": 4,
 "nbformat_minor": 5
}
