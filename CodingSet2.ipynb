{
 "cells": [
  {
   "cell_type": "code",
   "execution_count": null,
   "id": "51073cfd-30ae-444b-a6b1-2b03294b189a",
   "metadata": {},
   "outputs": [],
   "source": [
    "# Coding Set 2\n",
    "# Kimberly Kelley\n",
    "\n",
    "## Algorithm Workbench\n",
    "## Exercise 4\n",
    "##     Assume the variables result, w, x, y, and z are all integers and that \n",
    "##     w=5, x=4, y=8, and z=2. What value will be stored in result after\n",
    "##     each of the following statements execute.\n",
    "\n",
    "### Initialize the variables\n",
    "\n",
    "w = 5\n",
    "x = 4\n",
    "y = 8\n",
    "z = 2\n",
    "\n",
    "### Calculations to be executed based on the question in the textbook\n",
    "\n",
    "result1 = x + y\n",
    "result2 = z * 2\n",
    "result3 = y / x\n",
    "result4 = y - z\n",
    "result5 = w // z\n",
    "\n",
    "### Print results of the above calculations\n",
    "\n",
    "print (result1)\n",
    "print (result2)\n",
    "print (result3)\n",
    "print (result4)\n",
    "print (result5)"
   ]
  }
 ],
 "metadata": {
  "kernelspec": {
   "display_name": "Python 3 (ipykernel)",
   "language": "python",
   "name": "python3"
  },
  "language_info": {
   "codemirror_mode": {
    "name": "ipython",
    "version": 3
   },
   "file_extension": ".py",
   "mimetype": "text/x-python",
   "name": "python",
   "nbconvert_exporter": "python",
   "pygments_lexer": "ipython3",
   "version": "3.11.7"
  }
 },
 "nbformat": 4,
 "nbformat_minor": 5
}
